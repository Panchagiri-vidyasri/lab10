{
  "nbformat": 4,
  "nbformat_minor": 0,
  "metadata": {
    "colab": {
      "provenance": []
    },
    "kernelspec": {
      "name": "python3",
      "display_name": "Python 3"
    },
    "language_info": {
      "name": "python"
    }
  },
  "cells": [
    {
      "cell_type": "code",
      "execution_count": 1,
      "metadata": {
        "colab": {
          "base_uri": "https://localhost:8080/"
        },
        "id": "58jxhtKxS2gh",
        "outputId": "0a2f80cc-ac5c-432c-967b-2cca6a6e9a56"
      },
      "outputs": [
        {
          "output_type": "stream",
          "name": "stdout",
          "text": [
            "              ID  Estimated_Insects_Count  Crop_Type  Soil_Type  \\\n",
            "0      F00000002                      188          1          1   \n",
            "1      F00000007                      410          1          1   \n",
            "2      F00000011                      626          1          0   \n",
            "3      F00000013                      731          1          0   \n",
            "4      F00000014                      789          0          0   \n",
            "...          ...                      ...        ...        ...   \n",
            "59305  F00155937                     3337          1          0   \n",
            "59306  F00155940                     3516          1          0   \n",
            "59307  F00155941                     3702          1          0   \n",
            "59308  F00155943                     3702          1          0   \n",
            "59309  F00155944                     3895          1          0   \n",
            "\n",
            "       Pesticide_Use_Category  Number_Doses_Week  Number_Weeks_Used  \\\n",
            "0                           1                  0                NaN   \n",
            "1                           1                  0                0.0   \n",
            "2                           1                  0                0.0   \n",
            "3                           1                  0                0.0   \n",
            "4                           1                  0                0.0   \n",
            "...                       ...                ...                ...   \n",
            "59305                       2                 20               34.0   \n",
            "59306                       2                 20               32.0   \n",
            "59307                       2                 10                NaN   \n",
            "59308                       2                 10               28.0   \n",
            "59309                       2                  5               52.0   \n",
            "\n",
            "       Number_Weeks_Quit  Season  \n",
            "0                      0       2  \n",
            "1                      0       2  \n",
            "2                      0       2  \n",
            "3                      0       2  \n",
            "4                      0       1  \n",
            "...                  ...     ...  \n",
            "59305                 12       1  \n",
            "59306                 10       2  \n",
            "59307                 48       1  \n",
            "59308                 17       2  \n",
            "59309                  7       1  \n",
            "\n",
            "[59310 rows x 9 columns]\n"
          ]
        }
      ],
      "source": [
        "import pandas as pd\n",
        "a= pd.read_csv('/content/test.csv')\n",
        "print(a)"
      ]
    },
    {
      "cell_type": "code",
      "source": [
        "a = a.sample(n=1000)\n",
        "\n",
        "# Save the new dataset to a CSV file\n",
        "a.to_csv('new_dataset.csv', index=False)"
      ],
      "metadata": {
        "id": "eIZQ2n23WEUg"
      },
      "execution_count": 2,
      "outputs": []
    },
    {
      "cell_type": "code",
      "source": [
        "print(a.isnull().sum())"
      ],
      "metadata": {
        "colab": {
          "base_uri": "https://localhost:8080/"
        },
        "id": "tvAQDTWIWPy4",
        "outputId": "ef23275d-d83a-42e7-84e4-9aeca2f3fac4"
      },
      "execution_count": 3,
      "outputs": [
        {
          "output_type": "stream",
          "name": "stdout",
          "text": [
            "ID                           0\n",
            "Estimated_Insects_Count      0\n",
            "Crop_Type                    0\n",
            "Soil_Type                    0\n",
            "Pesticide_Use_Category       0\n",
            "Number_Doses_Week            0\n",
            "Number_Weeks_Used          105\n",
            "Number_Weeks_Quit            0\n",
            "Season                       0\n",
            "dtype: int64\n"
          ]
        }
      ]
    },
    {
      "cell_type": "code",
      "source": [
        "a[\"Number_Weeks_Used\"].fillna(0, inplace = True)"
      ],
      "metadata": {
        "id": "22EcSH0nWciN"
      },
      "execution_count": 4,
      "outputs": []
    },
    {
      "cell_type": "code",
      "source": [
        "aa=a.drop('ID',axis=1)"
      ],
      "metadata": {
        "id": "lMkl0jAzWhkA"
      },
      "execution_count": 5,
      "outputs": []
    },
    {
      "cell_type": "code",
      "source": [
        "y=aa['Number_Weeks_Quit']\n",
        "print(\"THE TARGET VAIRIABLE\")\n",
        "print(y)"
      ],
      "metadata": {
        "colab": {
          "base_uri": "https://localhost:8080/"
        },
        "id": "afYQSoBPWpi9",
        "outputId": "e2114f56-affb-4f56-c226-eac70d0e5982"
      },
      "execution_count": 6,
      "outputs": [
        {
          "output_type": "stream",
          "name": "stdout",
          "text": [
            "THE TARGET VAIRIABLE\n",
            "49814     1\n",
            "41945     6\n",
            "35772     0\n",
            "57432     4\n",
            "34116     0\n",
            "         ..\n",
            "26263     3\n",
            "52920     0\n",
            "26102    21\n",
            "53710    15\n",
            "11247     3\n",
            "Name: Number_Weeks_Quit, Length: 1000, dtype: int64\n"
          ]
        }
      ]
    },
    {
      "cell_type": "code",
      "source": [
        "x=aa.drop('Number_Weeks_Quit',axis=1)\n",
        "print(x)"
      ],
      "metadata": {
        "colab": {
          "base_uri": "https://localhost:8080/"
        },
        "id": "5iOAE_yqW3_s",
        "outputId": "8e6d86c3-f24d-4520-f57f-d223f3eeac54"
      },
      "execution_count": 7,
      "outputs": [
        {
          "output_type": "stream",
          "name": "stdout",
          "text": [
            "       Estimated_Insects_Count  Crop_Type  Soil_Type  Pesticide_Use_Category  \\\n",
            "49814                     1296          0          0                       2   \n",
            "41945                     2015          0          1                       2   \n",
            "35772                     1478          0          0                       3   \n",
            "57432                      984          1          0                       2   \n",
            "34116                     1385          0          0                       3   \n",
            "...                        ...        ...        ...                     ...   \n",
            "26263                     2402          0          0                       2   \n",
            "52920                     1056          1          0                       3   \n",
            "26102                     1385          0          0                       2   \n",
            "53710                     1212          0          1                       2   \n",
            "11247                      732          0          1                       2   \n",
            "\n",
            "       Number_Doses_Week  Number_Weeks_Used  Season  \n",
            "49814                 30                0.0       1  \n",
            "41945                 30               45.0       1  \n",
            "35772                 15               44.0       3  \n",
            "57432                 10               34.0       2  \n",
            "34116                 25               49.0       2  \n",
            "...                  ...                ...     ...  \n",
            "26263                 20               50.0       2  \n",
            "52920                  5               40.0       2  \n",
            "26102                 40               23.0       1  \n",
            "53710                 30                0.0       2  \n",
            "11247                 20               29.0       3  \n",
            "\n",
            "[1000 rows x 7 columns]\n"
          ]
        }
      ]
    },
    {
      "cell_type": "code",
      "source": [
        "from sklearn.model_selection import train_test_split\n",
        "x_train, x_test, y_train, y_test = train_test_split(x,y, test_size=0.2, random_state=0)\n",
        "print(x_train)\n",
        "print(x_test)\n",
        "print(y_train)\n",
        "print(y_test)"
      ],
      "metadata": {
        "colab": {
          "base_uri": "https://localhost:8080/"
        },
        "id": "IjKYM71MW_2S",
        "outputId": "f02af5bd-09dd-4c8b-e8c0-09d6bbb39658"
      },
      "execution_count": 8,
      "outputs": [
        {
          "output_type": "stream",
          "name": "stdout",
          "text": [
            "       Estimated_Insects_Count  Crop_Type  Soil_Type  Pesticide_Use_Category  \\\n",
            "13084                     1385          0          1                       2   \n",
            "53905                     2541          0          1                       2   \n",
            "10238                      448          0          0                       3   \n",
            "54423                     1478          0          0                       3   \n",
            "47754                      411          1          0                       3   \n",
            "...                        ...        ...        ...                     ...   \n",
            "16789                     1056          1          0                       2   \n",
            "46040                      488          1          0                       3   \n",
            "36459                     2267          0          0                       2   \n",
            "5294                      1296          0          1                       3   \n",
            "15141                      984          1          0                       2   \n",
            "\n",
            "       Number_Doses_Week  Number_Weeks_Used  Season  \n",
            "13084                 10               32.0       3  \n",
            "53905                 10               18.0       2  \n",
            "10238                 20               26.0       2  \n",
            "54423                 30               42.0       2  \n",
            "47754                 30               20.0       2  \n",
            "...                  ...                ...     ...  \n",
            "16789                 20               24.0       1  \n",
            "46040                 10               24.0       3  \n",
            "36459                 10               40.0       3  \n",
            "5294                  40               33.0       2  \n",
            "15141                 40               33.0       2  \n",
            "\n",
            "[800 rows x 7 columns]\n",
            "       Estimated_Insects_Count  Crop_Type  Soil_Type  Pesticide_Use_Category  \\\n",
            "2034                       283          1          1                       3   \n",
            "13035                     1132          0          1                       2   \n",
            "13584                      151          0          0                       3   \n",
            "56273                      790          1          0                       3   \n",
            "24469                     1678          0          0                       2   \n",
            "...                        ...        ...        ...                     ...   \n",
            "22196                     1898          0          1                       3   \n",
            "7693                       188          0          1                       2   \n",
            "35906                      448          1          1                       3   \n",
            "52723                     1296          0          1                       3   \n",
            "40211                     1385          0          1                       2   \n",
            "\n",
            "       Number_Doses_Week  Number_Weeks_Used  Season  \n",
            "2034                  35               25.0       2  \n",
            "13035                 20               19.0       1  \n",
            "13584                 15                0.0       1  \n",
            "56273                 30               40.0       3  \n",
            "24469                 25               32.0       1  \n",
            "...                  ...                ...     ...  \n",
            "22196                 30               55.0       3  \n",
            "7693                  20               12.0       3  \n",
            "35906                 30               30.0       2  \n",
            "52723                 20               45.0       3  \n",
            "40211                  5                7.0       2  \n",
            "\n",
            "[200 rows x 7 columns]\n",
            "13084    13\n",
            "53905    36\n",
            "10238     0\n",
            "54423     0\n",
            "47754     0\n",
            "         ..\n",
            "16789     3\n",
            "46040     0\n",
            "36459     9\n",
            "5294      0\n",
            "15141    10\n",
            "Name: Number_Weeks_Quit, Length: 800, dtype: int64\n",
            "2034      0\n",
            "13035    23\n",
            "13584     0\n",
            "56273     0\n",
            "24469    19\n",
            "         ..\n",
            "22196     0\n",
            "7693      5\n",
            "35906     0\n",
            "52723     0\n",
            "40211    26\n",
            "Name: Number_Weeks_Quit, Length: 200, dtype: int64\n"
          ]
        }
      ]
    },
    {
      "cell_type": "code",
      "source": [
        "from sklearn.preprocessing import StandardScaler\n",
        "sc_x = StandardScaler()\n",
        "x_train = sc_x.fit_transform(x_train)\n",
        "x_test = sc_x.transform(x_test)"
      ],
      "metadata": {
        "id": "k9pBY73zXRRr"
      },
      "execution_count": 9,
      "outputs": []
    },
    {
      "cell_type": "code",
      "source": [
        "#svm model\n",
        "from sklearn.svm import SVC\n",
        "\n",
        "svm_classifier = SVC(kernel='rbf', C=1.0, gamma='scale', random_state=0)\n",
        "\n",
        "svm_classifier.fit(x_train, y_train)\n",
        "\n",
        "y_pred = svm_classifier.predict(x_test)\n",
        "print(y_pred)"
      ],
      "metadata": {
        "colab": {
          "base_uri": "https://localhost:8080/"
        },
        "id": "EXF04SJNXWB5",
        "outputId": "bb282ecf-1375-4b75-e19e-ffa1bad5db9f"
      },
      "execution_count": 10,
      "outputs": [
        {
          "output_type": "stream",
          "name": "stdout",
          "text": [
            "[ 0 17  0  0  2  0  2 20 10  0 15 13  0 20 15 17 17  0  0 15 15 13 17  0\n",
            " 17 10  0 10 10  2 10 10  0  0 10 20 20  0 13  0 20  0  0  0  0 20  0 15\n",
            "  0  0  0  2 10 20 10 10  0 20 14 10 15  0 20  0  2  0  0 20 20  0 15 20\n",
            " 20  0  4 20 17 15 14 17  0  0 20  0  0 10  2  2 10  0  2 10  0 10  0 14\n",
            "  0  0 15 20  0  0 15  0 14 10 20  0  0  0 20  0  0  0  0  0  0  0 10 20\n",
            " 15 10  0  0 10 10 10  0 14 10  2 19  0 20 10  0 10 10 15 20 20  2 10 20\n",
            "  2  0 15  0 15  0 15 10 10 20 20  0 10 15 10  0  0 20 10  0  0  0 14  0\n",
            " 20  0 15  0 15  0 15 16  0 10 13 10 17 10 20 13  2  0  0  0  0  0  0 19\n",
            "  0 17  0  0 10  0  0 20]\n"
          ]
        }
      ]
    },
    {
      "cell_type": "code",
      "source": [
        "from sklearn.metrics import accuracy_score\n",
        "\n",
        "accuracy = accuracy_score(y_test, y_pred)\n",
        "\n",
        "print(\"Accuracy using SVM model:\", accuracy)"
      ],
      "metadata": {
        "colab": {
          "base_uri": "https://localhost:8080/"
        },
        "id": "xYbrlSHYXiPy",
        "outputId": "f75a6fa4-e09f-4f66-886f-938e4dcbdbcf"
      },
      "execution_count": 11,
      "outputs": [
        {
          "output_type": "stream",
          "name": "stdout",
          "text": [
            "Accuracy using SVM model: 0.32\n"
          ]
        }
      ]
    },
    {
      "cell_type": "code",
      "source": [
        "from sklearn.linear_model import LogisticRegression\n",
        "from sklearn.metrics import accuracy_score\n",
        "\n",
        "model = LogisticRegression()\n",
        "model.fit(x_train, y_train)\n",
        "\n",
        "y_pred = model.predict(x_test)\n",
        "accuracy = accuracy_score(y_test, y_pred)\n",
        "print('Accuracy using logistic regression:', accuracy)"
      ],
      "metadata": {
        "colab": {
          "base_uri": "https://localhost:8080/"
        },
        "id": "gFD9QfFmXl76",
        "outputId": "2cfd03a3-f3a4-4d3c-8f06-e8ed6251fea4"
      },
      "execution_count": 12,
      "outputs": [
        {
          "output_type": "stream",
          "name": "stdout",
          "text": [
            "Accuracy using logistic regression: 0.335\n"
          ]
        }
      ]
    },
    {
      "cell_type": "code",
      "source": [
        "from sklearn.metrics import confusion_matrix\n",
        "import seaborn as sns\n",
        "import matplotlib.pyplot as plt\n",
        "\n",
        "conf_matrix = confusion_matrix(y_test, y_pred)\n",
        "plt.figure(figsize=(8, 6))\n",
        "sns.heatmap(conf_matrix, annot=True, fmt='d', cmap='Blues',\n",
        "            xticklabels=[f'Predicted {i}' for i in set(y)],\n",
        "            yticklabels=[f'Actual {i}' for i in set(y)])\n",
        "plt.xlabel('Predicted')\n",
        "plt.ylabel('type')\n",
        "plt.title('Confusion Matrix')\n",
        "plt.show()\n"
      ],
      "metadata": {
        "colab": {
          "base_uri": "https://localhost:8080/",
          "height": 638
        },
        "id": "x6ji87QtX2ja",
        "outputId": "2e42339e-6938-4722-bd6c-2739b19baa81"
      },
      "execution_count": 13,
      "outputs": [
        {
          "output_type": "display_data",
          "data": {
            "text/plain": [
              "<Figure size 800x600 with 2 Axes>"
            ],
            "image/png": "[encoded data removed]"
          },
          "metadata": {}
        }
      ]
    }
  ]
}