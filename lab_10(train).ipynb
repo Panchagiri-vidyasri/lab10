{
  "nbformat": 4,
  "nbformat_minor": 0,
  "metadata": {
    "colab": {
      "provenance": []
    },
    "kernelspec": {
      "name": "python3",
      "display_name": "Python 3"
    },
    "language_info": {
      "name": "python"
    }
  },
  "cells": [
    {
      "cell_type": "code",
      "execution_count": 35,
      "metadata": {
        "colab": {
          "base_uri": "https://localhost:8080/"
        },
        "id": "8st5nxj1Aw2i",
        "outputId": "211b4e98-d8dc-40cd-bbae-380601a64d62"
      },
      "outputs": [
        {
          "output_type": "stream",
          "name": "stdout",
          "text": [
            "              ID  Estimated_Insects_Count  Crop_Type  Soil_Type  \\\n",
            "0      F00000001                      188          1          0   \n",
            "1      F00000003                      209          1          0   \n",
            "2      F00000004                      257          1          0   \n",
            "3      F00000005                      257          1          1   \n",
            "4      F00000006                      342          1          0   \n",
            "...          ...                      ...        ...        ...   \n",
            "88853  F00155935                     3337          1          0   \n",
            "88854  F00155938                     3516          1          0   \n",
            "88855  F00155939                     3516          1          0   \n",
            "88856  F00155942                     3702          1          0   \n",
            "88857  F00155945                     3895          1          0   \n",
            "\n",
            "       Pesticide_Use_Category  Number_Doses_Week  Number_Weeks_Used  \\\n",
            "0                           1                  0                0.0   \n",
            "1                           1                  0                0.0   \n",
            "2                           1                  0                0.0   \n",
            "3                           1                  0                0.0   \n",
            "4                           1                  0                0.0   \n",
            "...                       ...                ...                ...   \n",
            "88853                       2                 10               12.0   \n",
            "88854                       2                 10               20.0   \n",
            "88855                       2                 15               40.0   \n",
            "88856                       2                 10               25.0   \n",
            "88857                       2                 20               37.0   \n",
            "\n",
            "       Number_Weeks_Quit  Season  Crop_Damage  \n",
            "0                      0       1            0  \n",
            "1                      0       2            1  \n",
            "2                      0       2            1  \n",
            "3                      0       2            1  \n",
            "4                      0       2            1  \n",
            "...                  ...     ...          ...  \n",
            "88853                 44       3            0  \n",
            "88854                 38       1            0  \n",
            "88855                  8       2            0  \n",
            "88856                 18       3            0  \n",
            "88857                  7       3            0  \n",
            "\n",
            "[88858 rows x 10 columns]\n"
          ]
        }
      ],
      "source": [
        "import pandas as pd\n",
        "t= pd.read_csv('/content/train-1.csv')\n",
        "print(t)"
      ]
    },
    {
      "cell_type": "code",
      "source": [
        "t = t.sample(n=1000)\n",
        "\n",
        "# Save the new dataset to a CSV file\n",
        "t.to_csv('new_dataset.csv', index=False)"
      ],
      "metadata": {
        "id": "YoyJmEc6XG4-"
      },
      "execution_count": 36,
      "outputs": []
    },
    {
      "cell_type": "code",
      "source": [
        "c=t['Crop_Type']\n",
        "print(set(c))"
      ],
      "metadata": {
        "colab": {
          "base_uri": "https://localhost:8080/"
        },
        "id": "-msdfurKN8Lp",
        "outputId": "7022493d-9d53-44e1-f40b-021f84802a55"
      },
      "execution_count": 37,
      "outputs": [
        {
          "output_type": "stream",
          "name": "stdout",
          "text": [
            "{0, 1}\n"
          ]
        }
      ]
    },
    {
      "cell_type": "code",
      "source": [
        "print(t.isnull().sum())"
      ],
      "metadata": {
        "colab": {
          "base_uri": "https://localhost:8080/"
        },
        "id": "bra7htqBOMW6",
        "outputId": "4237aef8-da8b-4a2d-d523-bea2ca7cf8ab"
      },
      "execution_count": 38,
      "outputs": [
        {
          "output_type": "stream",
          "name": "stdout",
          "text": [
            "ID                           0\n",
            "Estimated_Insects_Count      0\n",
            "Crop_Type                    0\n",
            "Soil_Type                    0\n",
            "Pesticide_Use_Category       0\n",
            "Number_Doses_Week            0\n",
            "Number_Weeks_Used          101\n",
            "Number_Weeks_Quit            0\n",
            "Season                       0\n",
            "Crop_Damage                  0\n",
            "dtype: int64\n"
          ]
        }
      ]
    },
    {
      "cell_type": "code",
      "source": [
        "t[\"Number_Weeks_Used\"].fillna(0, inplace = True)"
      ],
      "metadata": {
        "id": "G_hM5V_SOWo9"
      },
      "execution_count": 39,
      "outputs": []
    },
    {
      "cell_type": "code",
      "source": [
        "print(t.dtypes)"
      ],
      "metadata": {
        "colab": {
          "base_uri": "https://localhost:8080/"
        },
        "id": "0OTVK8ZQOzOy",
        "outputId": "3d8db444-7bd0-47a1-b8ae-b6c80baec45d"
      },
      "execution_count": 40,
      "outputs": [
        {
          "output_type": "stream",
          "name": "stdout",
          "text": [
            "ID                          object\n",
            "Estimated_Insects_Count      int64\n",
            "Crop_Type                    int64\n",
            "Soil_Type                    int64\n",
            "Pesticide_Use_Category       int64\n",
            "Number_Doses_Week            int64\n",
            "Number_Weeks_Used          float64\n",
            "Number_Weeks_Quit            int64\n",
            "Season                       int64\n",
            "Crop_Damage                  int64\n",
            "dtype: object\n"
          ]
        }
      ]
    },
    {
      "cell_type": "code",
      "source": [
        "print(set(t[\"Number_Weeks_Used\"]))"
      ],
      "metadata": {
        "colab": {
          "base_uri": "https://localhost:8080/"
        },
        "id": "167TWB6_PUUT",
        "outputId": "31a47bdb-8a1d-4454-fdfb-9f69cca5a789"
      },
      "execution_count": 41,
      "outputs": [
        {
          "output_type": "stream",
          "name": "stdout",
          "text": [
            "{0.0, 5.0, 6.0, 7.0, 8.0, 9.0, 10.0, 11.0, 12.0, 13.0, 14.0, 15.0, 16.0, 17.0, 18.0, 19.0, 20.0, 21.0, 22.0, 23.0, 24.0, 25.0, 26.0, 27.0, 28.0, 29.0, 30.0, 31.0, 32.0, 33.0, 34.0, 35.0, 36.0, 37.0, 38.0, 39.0, 40.0, 41.0, 42.0, 43.0, 44.0, 45.0, 46.0, 47.0, 48.0, 49.0, 50.0, 51.0, 52.0, 53.0, 54.0, 55.0, 56.0, 57.0, 58.0}\n"
          ]
        }
      ]
    },
    {
      "cell_type": "code",
      "source": [
        "tt=t.drop('ID',axis=1)"
      ],
      "metadata": {
        "id": "G5d7A-XIQA55"
      },
      "execution_count": 42,
      "outputs": []
    },
    {
      "cell_type": "code",
      "source": [
        "y=tt['Crop_Damage']\n",
        "print(\"THE TARGET VAIRIABLE\")\n",
        "print(y)"
      ],
      "metadata": {
        "colab": {
          "base_uri": "https://localhost:8080/"
        },
        "id": "MvNFKFk5P2IU",
        "outputId": "80f36990-25da-48dc-9fef-8bc068b2cf0b"
      },
      "execution_count": 43,
      "outputs": [
        {
          "output_type": "stream",
          "name": "stdout",
          "text": [
            "THE TARGET VAIRIABLE\n",
            "68152    0\n",
            "84279    0\n",
            "73153    0\n",
            "82534    2\n",
            "39081    0\n",
            "        ..\n",
            "68998    0\n",
            "72564    0\n",
            "4836     0\n",
            "79607    0\n",
            "80448    0\n",
            "Name: Crop_Damage, Length: 1000, dtype: int64\n"
          ]
        }
      ]
    },
    {
      "cell_type": "code",
      "source": [
        "x=tt.drop('Crop_Damage',axis=1)\n",
        "print(x)"
      ],
      "metadata": {
        "colab": {
          "base_uri": "https://localhost:8080/"
        },
        "id": "c3NFul0_QVAN",
        "outputId": "c21fc80d-5762-41fd-efeb-551b5bd6ecea"
      },
      "execution_count": 44,
      "outputs": [
        {
          "output_type": "stream",
          "name": "stdout",
          "text": [
            "       Estimated_Insects_Count  Crop_Type  Soil_Type  Pesticide_Use_Category  \\\n",
            "68152                     2401          0          1                       2   \n",
            "84279                      789          1          1                       3   \n",
            "73153                     2542          0          1                       2   \n",
            "82534                     3702          0          0                       2   \n",
            "39081                      916          0          0                       2   \n",
            "...                        ...        ...        ...                     ...   \n",
            "68998                      209          1          0                       3   \n",
            "72564                      732          0          1                       2   \n",
            "4836                       731          1          0                       2   \n",
            "79607                     1212          0          0                       2   \n",
            "80448                     1297          0          1                       2   \n",
            "\n",
            "       Number_Doses_Week  Number_Weeks_Used  Number_Weeks_Quit  Season  \n",
            "68152                 20               45.0                  7       1  \n",
            "84279                  5                6.0                  0       3  \n",
            "73153                 20               25.0                 26       3  \n",
            "82534                 40               52.0                 10       3  \n",
            "39081                 35                0.0                 10       2  \n",
            "...                  ...                ...                ...     ...  \n",
            "68998                 20               28.0                  0       2  \n",
            "72564                 30               25.0                 10       1  \n",
            "4836                  10               30.0                  6       1  \n",
            "79607                 45               31.0                  8       3  \n",
            "80448                 40                0.0                 25       2  \n",
            "\n",
            "[1000 rows x 8 columns]\n"
          ]
        }
      ]
    },
    {
      "cell_type": "code",
      "source": [
        "from sklearn.model_selection import train_test_split\n",
        "x_train, x_test, y_train, y_test = train_test_split(x,y, test_size=0.2, random_state=0)\n",
        "print(x_train)\n",
        "print(x_test)\n",
        "print(y_train)\n",
        "print(y_test)"
      ],
      "metadata": {
        "colab": {
          "base_uri": "https://localhost:8080/"
        },
        "id": "XPHPKS49Qh7C",
        "outputId": "cfa61f4d-3599-46dd-f92b-18b870e22aee"
      },
      "execution_count": 45,
      "outputs": [
        {
          "output_type": "stream",
          "name": "stdout",
          "text": [
            "       Estimated_Insects_Count  Crop_Type  Soil_Type  Pesticide_Use_Category  \\\n",
            "6896                      1385          0          1                       2   \n",
            "38409                     1478          0          0                       3   \n",
            "32163                     1056          0          1                       2   \n",
            "40025                     1385          0          1                       2   \n",
            "8987                       531          0          1                       2   \n",
            "...                        ...        ...        ...                     ...   \n",
            "49364                     1385          0          0                       2   \n",
            "20268                     2542          1          0                       2   \n",
            "6866                      1385          0          1                       2   \n",
            "30787                     2267          0          0                       3   \n",
            "12246                     2688          0          1                       2   \n",
            "\n",
            "       Number_Doses_Week  Number_Weeks_Used  Number_Weeks_Quit  Season  \n",
            "6896                  60               12.0                 21       3  \n",
            "38409                  5               25.0                  0       1  \n",
            "32163                 15               40.0                  1       3  \n",
            "40025                 15               14.0                 31       1  \n",
            "8987                  25               25.0                  8       3  \n",
            "...                  ...                ...                ...     ...  \n",
            "49364                  5                5.0                 31       2  \n",
            "20268                 10               30.0                 12       3  \n",
            "6866                  20               16.0                 23       2  \n",
            "30787                 15               38.0                  0       2  \n",
            "12246                 10               20.0                 34       3  \n",
            "\n",
            "[800 rows x 8 columns]\n",
            "       Estimated_Insects_Count  Crop_Type  Soil_Type  Pesticide_Use_Category  \\\n",
            "55169                     1212          0          1                       2   \n",
            "67062                     1132          0          0                       2   \n",
            "40237                     2139          0          1                       2   \n",
            "86914                     1132          1          1                       3   \n",
            "35347                     1132          1          0                       2   \n",
            "...                        ...        ...        ...                     ...   \n",
            "68105                     2139          0          1                       2   \n",
            "65616                     2401          0          1                       2   \n",
            "59132                     2016          1          0                       3   \n",
            "53342                     1786          1          0                       2   \n",
            "25654                     1576          0          0                       3   \n",
            "\n",
            "       Number_Doses_Week  Number_Weeks_Used  Number_Weeks_Quit  Season  \n",
            "55169                 80               26.0                 14       2  \n",
            "67062                 25               38.0                  3       2  \n",
            "40237                 40               17.0                 35       1  \n",
            "86914                 20               38.0                  0       1  \n",
            "35347                 20               32.0                  9       2  \n",
            "...                  ...                ...                ...     ...  \n",
            "68105                 20               29.0                 18       2  \n",
            "65616                 20               12.0                 36       2  \n",
            "59132                 10               15.0                  0       2  \n",
            "53342                 10                0.0                 29       1  \n",
            "25654                 30               51.0                  0       2  \n",
            "\n",
            "[200 rows x 8 columns]\n",
            "6896     0\n",
            "38409    1\n",
            "32163    0\n",
            "40025    0\n",
            "8987     0\n",
            "        ..\n",
            "49364    0\n",
            "20268    1\n",
            "6866     0\n",
            "30787    0\n",
            "12246    0\n",
            "Name: Crop_Damage, Length: 800, dtype: int64\n",
            "55169    0\n",
            "67062    0\n",
            "40237    0\n",
            "86914    2\n",
            "35347    0\n",
            "        ..\n",
            "68105    0\n",
            "65616    0\n",
            "59132    0\n",
            "53342    0\n",
            "25654    1\n",
            "Name: Crop_Damage, Length: 200, dtype: int64\n"
          ]
        }
      ]
    },
    {
      "cell_type": "code",
      "source": [
        "from sklearn.preprocessing import StandardScaler\n",
        "sc_x = StandardScaler()\n",
        "x_train = sc_x.fit_transform(x_train)\n",
        "x_test = sc_x.transform(x_test)"
      ],
      "metadata": {
        "id": "AfzFXUYsQsjx"
      },
      "execution_count": 46,
      "outputs": []
    },
    {
      "cell_type": "code",
      "source": [
        "#svm model\n",
        "from sklearn.svm import SVC\n",
        "\n",
        "svm_classifier = SVC(kernel='rbf', C=1.0, gamma='scale', random_state=0)\n",
        "\n",
        "svm_classifier.fit(x_train, y_train)\n",
        "\n",
        "y_pred = svm_classifier.predict(x_test)\n",
        "print(y_pred)"
      ],
      "metadata": {
        "colab": {
          "base_uri": "https://localhost:8080/"
        },
        "id": "HS-7BzsAUtBC",
        "outputId": "4e86f020-0817-490b-846f-555f10ac9ba4"
      },
      "execution_count": 48,
      "outputs": [
        {
          "output_type": "stream",
          "name": "stdout",
          "text": [
            "[0 0 0 0 0 0 0 0 0 0 0 0 0 0 0 0 0 0 0 0 0 0 0 0 1 0 0 0 0 0 0 0 0 0 0 0 0\n",
            " 0 0 0 0 0 0 0 0 0 0 0 0 0 0 0 0 0 0 0 0 0 0 0 0 0 0 0 0 0 0 0 0 0 0 0 0 0\n",
            " 0 0 0 0 0 0 0 0 0 0 0 0 0 0 0 0 0 0 0 0 0 0 0 0 0 0 0 0 0 0 0 0 0 0 0 0 0\n",
            " 0 0 0 0 0 0 0 1 0 0 0 0 0 0 0 0 0 0 0 0 0 0 0 0 0 0 0 0 0 0 0 0 0 0 0 0 0\n",
            " 0 0 0 0 0 0 0 0 0 0 0 0 0 0 0 0 0 0 0 0 0 0 0 0 0 0 0 0 0 0 0 0 0 0 0 0 0\n",
            " 0 0 0 0 0 0 0 0 0 0 0 0 0 0 0]\n"
          ]
        }
      ]
    },
    {
      "cell_type": "code",
      "source": [
        "from sklearn.metrics import accuracy_score\n",
        "\n",
        "accuracy = accuracy_score(y_test, y_pred)\n",
        "\n",
        "print(\"Accuracy using SVM model:\", accuracy)"
      ],
      "metadata": {
        "colab": {
          "base_uri": "https://localhost:8080/"
        },
        "id": "TzKR6bnuUFCM",
        "outputId": "ac625062-1544-4e4d-8d71-0d6a51c20c03"
      },
      "execution_count": 49,
      "outputs": [
        {
          "output_type": "stream",
          "name": "stdout",
          "text": [
            "Accuracy using SVM model: 0.845\n"
          ]
        }
      ]
    },
    {
      "cell_type": "code",
      "source": [
        "from sklearn.metrics import confusion_matrix\n",
        "import seaborn as sns\n",
        "import matplotlib.pyplot as plt\n",
        "\n",
        "conf_matrix = confusion_matrix(y_test, y_pred)\n",
        "plt.figure(figsize=(8, 6))\n",
        "sns.heatmap(conf_matrix, annot=True, fmt='d', cmap='Blues',\n",
        "            xticklabels=[f'Predicted {i}' for i in set(y)],\n",
        "            yticklabels=[f'Actual {i}' for i in set(y)])\n",
        "plt.xlabel('Predicted')\n",
        "plt.ylabel('type')\n",
        "plt.title('Confusion Matrix')\n",
        "plt.show()\n"
      ],
      "metadata": {
        "colab": {
          "base_uri": "https://localhost:8080/",
          "height": 564
        },
        "id": "9dv2VAdDUKY2",
        "outputId": "dae47928-86de-421f-97b5-6e8f951b7210"
      },
      "execution_count": 50,
      "outputs": [
        {
          "output_type": "display_data",
          "data": {
            "text/plain": [
              "<Figure size 800x600 with 2 Axes>"
            ],
            "image/png": "[encoded data removed]"
          },
          "metadata": {}
        }
      ]
    },
    {
      "cell_type": "code",
      "source": [
        "from sklearn.linear_model import LogisticRegression\n",
        "from sklearn.metrics import accuracy_score\n",
        "\n",
        "model = LogisticRegression()\n",
        "model.fit(x_train, y_train)\n",
        "\n",
        "y_pred = model.predict(x_test)\n",
        "accuracy = accuracy_score(y_test, y_pred)\n",
        "print('Accuracy using logistic regression:', accuracy)"
      ],
      "metadata": {
        "colab": {
          "base_uri": "https://localhost:8080/"
        },
        "id": "tbasXppKUNyG",
        "outputId": "647ffade-ba5b-4afa-c592-2475be5eae8e"
      },
      "execution_count": 51,
      "outputs": [
        {
          "output_type": "stream",
          "name": "stdout",
          "text": [
            "Accuracy using logistic regression: 0.845\n"
          ]
        }
      ]
    },
    {
      "cell_type": "code",
      "source": [
        "conf_matrix = confusion_matrix(y_test, y_pred)\n",
        "plt.figure(figsize=(8, 6))\n",
        "sns.heatmap(conf_matrix, annot=True, fmt='d', cmap='Blues',\n",
        "            xticklabels=[f'Predicted {i}' for i in set(y)],\n",
        "            yticklabels=[f'Actual {i}' for i in set(y)])\n",
        "plt.xlabel('Predicted')\n",
        "plt.ylabel('type')\n",
        "plt.title('Confusion Matrix')\n",
        "plt.show()\n"
      ],
      "metadata": {
        "colab": {
          "base_uri": "https://localhost:8080/",
          "height": 564
        },
        "id": "ylX9jBZCX0vt",
        "outputId": "9096ba28-8df6-4a6a-c6b0-ec6ddef2271b"
      },
      "execution_count": 52,
      "outputs": [
        {
          "output_type": "display_data",
          "data": {
            "text/plain": [
              "<Figure size 800x600 with 2 Axes>"
            ],
            "image/png": "[encoded data removed]"
          },
          "metadata": {}
        }
      ]
    }
  ]
}